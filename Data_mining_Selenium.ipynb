{
 "cells": [
  {
   "cell_type": "code",
   "execution_count": 1,
   "metadata": {},
   "outputs": [
    {
     "name": "stderr",
     "output_type": "stream",
     "text": [
      "E:\\ProgramData\\Anaconda3\\lib\\site-packages\\ipykernel_launcher.py:1: DeprecationWarning: Using or importing the ABCs from 'collections' instead of from 'collections.abc' is deprecated, and in 3.8 it will stop working\n",
      "  \"\"\"Entry point for launching an IPython kernel.\n"
     ]
    },
    {
     "data": {
      "application/javascript": [
       "\n",
       "            setTimeout(function() {\n",
       "                var nbb_cell_id = 1;\n",
       "                var nbb_unformatted_code = \"from collections import Iterable\\nfrom selenium import webdriver\\nfrom selenium.webdriver.support.ui import WebDriverWait\\nfrom selenium.common.exceptions import StaleElementReferenceException\\nfrom selenium.webdriver.common.by import By\\nfrom time import sleep\\nimport selenium.webdriver.support.expected_conditions as EC\\nimport pandas as pd\\n\\n%load_ext nb_black\";\n",
       "                var nbb_formatted_code = \"from collections import Iterable\\nfrom selenium import webdriver\\nfrom selenium.webdriver.support.ui import WebDriverWait\\nfrom selenium.common.exceptions import StaleElementReferenceException\\nfrom selenium.webdriver.common.by import By\\nfrom time import sleep\\nimport selenium.webdriver.support.expected_conditions as EC\\nimport pandas as pd\\n\\n%load_ext nb_black\";\n",
       "                var nbb_cells = Jupyter.notebook.get_cells();\n",
       "                for (var i = 0; i < nbb_cells.length; ++i) {\n",
       "                    if (nbb_cells[i].input_prompt_number == nbb_cell_id) {\n",
       "                        if (nbb_cells[i].get_text() == nbb_unformatted_code) {\n",
       "                             nbb_cells[i].set_text(nbb_formatted_code);\n",
       "                        }\n",
       "                        break;\n",
       "                    }\n",
       "                }\n",
       "            }, 500);\n",
       "            "
      ],
      "text/plain": [
       "<IPython.core.display.Javascript object>"
      ]
     },
     "metadata": {},
     "output_type": "display_data"
    }
   ],
   "source": [
    "from collections import Iterable\n",
    "from selenium import webdriver\n",
    "from selenium.webdriver.support.ui import WebDriverWait\n",
    "from selenium.common.exceptions import StaleElementReferenceException\n",
    "from selenium.webdriver.common.by import By\n",
    "from time import sleep\n",
    "import selenium.webdriver.support.expected_conditions as EC\n",
    "import pandas as pd\n",
    "\n",
    "%load_ext nb_black"
   ]
  },
  {
   "cell_type": "code",
   "execution_count": 2,
   "metadata": {},
   "outputs": [
    {
     "data": {
      "application/javascript": [
       "\n",
       "            setTimeout(function() {\n",
       "                var nbb_cell_id = 2;\n",
       "                var nbb_unformatted_code = \"browser = webdriver.Chrome(r\\\"E:/BaiduYunDownload/chromedriver\\\")\\nbrowser.get(r\\\"http://data.cnki.net/ValueSearch/Index?datatype=year&ky=GDP\\\")\";\n",
       "                var nbb_formatted_code = \"browser = webdriver.Chrome(r\\\"E:/BaiduYunDownload/chromedriver\\\")\\nbrowser.get(r\\\"http://data.cnki.net/ValueSearch/Index?datatype=year&ky=GDP\\\")\";\n",
       "                var nbb_cells = Jupyter.notebook.get_cells();\n",
       "                for (var i = 0; i < nbb_cells.length; ++i) {\n",
       "                    if (nbb_cells[i].input_prompt_number == nbb_cell_id) {\n",
       "                        if (nbb_cells[i].get_text() == nbb_unformatted_code) {\n",
       "                             nbb_cells[i].set_text(nbb_formatted_code);\n",
       "                        }\n",
       "                        break;\n",
       "                    }\n",
       "                }\n",
       "            }, 500);\n",
       "            "
      ],
      "text/plain": [
       "<IPython.core.display.Javascript object>"
      ]
     },
     "metadata": {},
     "output_type": "display_data"
    }
   ],
   "source": [
    "browser = webdriver.Chrome(r\"E:/BaiduYunDownload/chromedriver\")\n",
    "browser.get(r\"http://data.cnki.net/ValueSearch/Index?datatype=year&ky=GDP\")"
   ]
  },
  {
   "cell_type": "code",
   "execution_count": 3,
   "metadata": {},
   "outputs": [
    {
     "data": {
      "application/javascript": [
       "\n",
       "            setTimeout(function() {\n",
       "                var nbb_cell_id = 3;\n",
       "                var nbb_unformatted_code = \"def find_table(indicator, region, year):\\n    \\n    browser.find_element_by_name(\\\"IndicateName\\\").clear()\\n    browser.find_element_by_name(\\\"IndicateName\\\").send_keys(indicator)\\n    browser.find_element_by_name(\\\"IndicateRegion\\\").clear()\\n    browser.find_element_by_name(\\\"IndicateRegion\\\").send_keys(region)\\n    browser.find_element_by_name(\\\"EndYear\\\").send_keys(year)\\n    element = browser.find_element_by_id(\\\"AdvancedSearch\\\")\\n    browser.execute_script(\\n        \\\"arguments[0].click();\\\", element\\n    )  # arguments[0], element means passing element into arguments[0] to execute in Javascript\\n    xpath = \\\"/html/body/div[1]/div[3]/div[1]/div/div[2]/table/tbody/tr\\\"\\n    sleep(20)\\n\\n    ls = []\\n    try:\\n        table = browser.find_elements_by_xpath(xpath)\\n        for tr in table:\\n            tds = tr.find_elements_by_tag_name(\\\"td\\\")\\n            ls.append([td.text for td in tds])\\n    except EC.StaleElementReferenceException:\\n        table = browser.find_elements_by_xpath(xpath)\\n        for tr in table:\\n\\n            tds = tr.find_elements_by_tag_name(\\\"td\\\")\\n            ls.append([td.text for td in tds])\\n    table_df = pd.DataFrame(ls)\\n    return table_df\";\n",
       "                var nbb_formatted_code = \"def find_table(indicator, region, year):\\n\\n    browser.find_element_by_name(\\\"IndicateName\\\").clear()\\n    browser.find_element_by_name(\\\"IndicateName\\\").send_keys(indicator)\\n    browser.find_element_by_name(\\\"IndicateRegion\\\").clear()\\n    browser.find_element_by_name(\\\"IndicateRegion\\\").send_keys(region)\\n    browser.find_element_by_name(\\\"EndYear\\\").send_keys(year)\\n    element = browser.find_element_by_id(\\\"AdvancedSearch\\\")\\n    browser.execute_script(\\n        \\\"arguments[0].click();\\\", element\\n    )  # arguments[0], element means passing element into arguments[0] to execute in Javascript\\n    xpath = \\\"/html/body/div[1]/div[3]/div[1]/div/div[2]/table/tbody/tr\\\"\\n    sleep(20)\\n\\n    ls = []\\n    try:\\n        table = browser.find_elements_by_xpath(xpath)\\n        for tr in table:\\n            tds = tr.find_elements_by_tag_name(\\\"td\\\")\\n            ls.append([td.text for td in tds])\\n    except EC.StaleElementReferenceException:\\n        table = browser.find_elements_by_xpath(xpath)\\n        for tr in table:\\n\\n            tds = tr.find_elements_by_tag_name(\\\"td\\\")\\n            ls.append([td.text for td in tds])\\n    table_df = pd.DataFrame(ls)\\n    return table_df\";\n",
       "                var nbb_cells = Jupyter.notebook.get_cells();\n",
       "                for (var i = 0; i < nbb_cells.length; ++i) {\n",
       "                    if (nbb_cells[i].input_prompt_number == nbb_cell_id) {\n",
       "                        if (nbb_cells[i].get_text() == nbb_unformatted_code) {\n",
       "                             nbb_cells[i].set_text(nbb_formatted_code);\n",
       "                        }\n",
       "                        break;\n",
       "                    }\n",
       "                }\n",
       "            }, 500);\n",
       "            "
      ],
      "text/plain": [
       "<IPython.core.display.Javascript object>"
      ]
     },
     "metadata": {},
     "output_type": "display_data"
    }
   ],
   "source": [
    "def find_table(indicator, region, year):\n",
    "\n",
    "    browser.find_element_by_name(\"IndicateName\").clear()\n",
    "    browser.find_element_by_name(\"IndicateName\").send_keys(indicator)\n",
    "    browser.find_element_by_name(\"IndicateRegion\").clear()\n",
    "    browser.find_element_by_name(\"IndicateRegion\").send_keys(region)\n",
    "    browser.find_element_by_name(\"StartYear\").send_keys(year)\n",
    "    browser.find_element_by_name(\"EndYear\").send_keys(year)\n",
    "    element = browser.find_element_by_id(\"AdvancedSearch\")\n",
    "    browser.execute_script(\n",
    "        \"arguments[0].click();\", element\n",
    "    )  # arguments[0], element means passing element into arguments[0] to execute in Javascript\n",
    "    xpath = \"/html/body/div[1]/div[3]/div[1]/div/div[2]/table/tbody/tr\"\n",
    "    sleep(20)\n",
    "\n",
    "    ls = []\n",
    "    try:\n",
    "        table = browser.find_elements_by_xpath(xpath)\n",
    "        for tr in table:\n",
    "            tds = tr.find_elements_by_tag_name(\"td\")\n",
    "            ls.append([td.text for td in tds])\n",
    "    except EC.StaleElementReferenceException:\n",
    "        table = browser.find_elements_by_xpath(xpath)\n",
    "        for tr in table:\n",
    "\n",
    "            tds = tr.find_elements_by_tag_name(\"td\")\n",
    "            ls.append([td.text for td in tds])\n",
    "    table_df = pd.DataFrame(ls)\n",
    "    return table_df"
   ]
  },
  {
   "cell_type": "code",
   "execution_count": 4,
   "metadata": {},
   "outputs": [
    {
     "data": {
      "application/javascript": [
       "\n",
       "            setTimeout(function() {\n",
       "                var nbb_cell_id = 4;\n",
       "                var nbb_unformatted_code = \"def data_collect(\\n    indicator_list, region_list, year_range, year_filter=None, unit_filter=None\\n):\\n    city_ls = []\\n    year_ls = []\\n    indicator_ls = []\\n    for city in region_list:\\n        for year in year_range:\\n            for indicator in indicator_list:\\n                indicator_ls.append(find_table(indicator, city, str(year)))\\n            indicator_data = pd.concat(indicator_ls)\\n            year_ls.append(indicator_data)\\n        year_data = pd.concat(year_ls)\\n        city_ls.append(year_data)\\n    total_df = pd.concat(city_ls)\\n    try:\\n        if isinstance(year_filter, Iterable):\\n            total_df_screened = total_df[\\n                (total_df[2].str.contains(\\\"|\\\".join(year_filter)))\\n                & (total_df[6].str.contains(unit_filter))\\n            ].iloc[:, 2:7]\\n        else:\\n            total_df_screened = total_df[\\n                (total_df[2].str.contains(year_filter))\\n                & (total_df[6].str.contains(unit_filter))\\n            ].iloc[:, 2:7]\\n    except:\\n        total_df_screened = total_df\\n    return total_df_screened\";\n",
       "                var nbb_formatted_code = \"def data_collect(\\n    indicator_list, region_list, year_range, year_filter=None, unit_filter=None\\n):\\n    city_ls = []\\n    year_ls = []\\n    indicator_ls = []\\n    for city in region_list:\\n        for year in year_range:\\n            for indicator in indicator_list:\\n                indicator_ls.append(find_table(indicator, city, str(year)))\\n            indicator_data = pd.concat(indicator_ls)\\n            year_ls.append(indicator_data)\\n        year_data = pd.concat(year_ls)\\n        city_ls.append(year_data)\\n    total_df = pd.concat(city_ls)\\n    try:\\n        if isinstance(year_filter, Iterable):\\n            total_df_screened = total_df[\\n                (total_df[2].str.contains(\\\"|\\\".join(year_filter)))\\n                & (total_df[6].str.contains(unit_filter))\\n            ].iloc[:, 2:7]\\n        else:\\n            total_df_screened = total_df[\\n                (total_df[2].str.contains(year_filter))\\n                & (total_df[6].str.contains(unit_filter))\\n            ].iloc[:, 2:7]\\n    except:\\n        total_df_screened = total_df\\n    return total_df_screened\";\n",
       "                var nbb_cells = Jupyter.notebook.get_cells();\n",
       "                for (var i = 0; i < nbb_cells.length; ++i) {\n",
       "                    if (nbb_cells[i].input_prompt_number == nbb_cell_id) {\n",
       "                        if (nbb_cells[i].get_text() == nbb_unformatted_code) {\n",
       "                             nbb_cells[i].set_text(nbb_formatted_code);\n",
       "                        }\n",
       "                        break;\n",
       "                    }\n",
       "                }\n",
       "            }, 500);\n",
       "            "
      ],
      "text/plain": [
       "<IPython.core.display.Javascript object>"
      ]
     },
     "metadata": {},
     "output_type": "display_data"
    }
   ],
   "source": [
    "def data_collect(\n",
    "    indicator_list, region_list, year_range, year_filter=None, unit_filter=None\n",
    "):\n",
    "    city_ls = []\n",
    "    year_ls = []\n",
    "    indicator_ls = []\n",
    "    for city in region_list:\n",
    "        for year in year_range:\n",
    "            for indicator in indicator_list:\n",
    "                indicator_ls.append(find_table(indicator, city, str(year)))\n",
    "            indicator_data = pd.concat(indicator_ls)\n",
    "            year_ls.append(indicator_data)\n",
    "        year_data = pd.concat(year_ls)\n",
    "        city_ls.append(year_data)\n",
    "    total_df = pd.concat(city_ls)\n",
    "    try:\n",
    "        if isinstance(year_filter, Iterable):\n",
    "            total_df_screened = total_df[\n",
    "                (total_df[2].str.contains(\"|\".join(year_filter)))\n",
    "                & (total_df[6].str.contains(unit_filter))\n",
    "            ].iloc[:, 2:7]\n",
    "        else:\n",
    "            total_df_screened = total_df[\n",
    "                (total_df[2].str.contains(year_filter))\n",
    "                & (total_df[6].str.contains(unit_filter))\n",
    "            ].iloc[:, 2:7]\n",
    "    except:\n",
    "        total_df_screened = total_df\n",
    "    return total_df_screened"
   ]
  },
  {
   "cell_type": "code",
   "execution_count": 5,
   "metadata": {},
   "outputs": [
    {
     "data": {
      "text/plain": [
       "[2005,\n",
       " 2006,\n",
       " 2007,\n",
       " 2008,\n",
       " 2009,\n",
       " 2010,\n",
       " 2011,\n",
       " 2012,\n",
       " 2013,\n",
       " 2014,\n",
       " 2015,\n",
       " 2016,\n",
       " 2017,\n",
       " 2018]"
      ]
     },
     "execution_count": 5,
     "metadata": {},
     "output_type": "execute_result"
    },
    {
     "data": {
      "application/javascript": [
       "\n",
       "            setTimeout(function() {\n",
       "                var nbb_cell_id = 5;\n",
       "                var nbb_unformatted_code = \"year_range = list(range(2005, 2019))\\nyear_range\";\n",
       "                var nbb_formatted_code = \"year_range = list(range(2005, 2019))\\nyear_range\";\n",
       "                var nbb_cells = Jupyter.notebook.get_cells();\n",
       "                for (var i = 0; i < nbb_cells.length; ++i) {\n",
       "                    if (nbb_cells[i].input_prompt_number == nbb_cell_id) {\n",
       "                        if (nbb_cells[i].get_text() == nbb_unformatted_code) {\n",
       "                             nbb_cells[i].set_text(nbb_formatted_code);\n",
       "                        }\n",
       "                        break;\n",
       "                    }\n",
       "                }\n",
       "            }, 500);\n",
       "            "
      ],
      "text/plain": [
       "<IPython.core.display.Javascript object>"
      ]
     },
     "metadata": {},
     "output_type": "display_data"
    }
   ],
   "source": [
    "year_range = list(range(2005, 2019))\n",
    "year_range"
   ]
  },
  {
   "cell_type": "code",
   "execution_count": 6,
   "metadata": {},
   "outputs": [
    {
     "data": {
      "text/plain": [
       "['2005',\n",
       " '2006',\n",
       " '2007',\n",
       " '2008',\n",
       " '2009',\n",
       " '2010',\n",
       " '2011',\n",
       " '2012',\n",
       " '2013',\n",
       " '2014',\n",
       " '2015',\n",
       " '2016',\n",
       " '2017',\n",
       " '2018']"
      ]
     },
     "execution_count": 6,
     "metadata": {},
     "output_type": "execute_result"
    },
    {
     "data": {
      "application/javascript": [
       "\n",
       "            setTimeout(function() {\n",
       "                var nbb_cell_id = 6;\n",
       "                var nbb_unformatted_code = \"year_filter = [str(i) for i in year_range]\\nyear_filter\";\n",
       "                var nbb_formatted_code = \"year_filter = [str(i) for i in year_range]\\nyear_filter\";\n",
       "                var nbb_cells = Jupyter.notebook.get_cells();\n",
       "                for (var i = 0; i < nbb_cells.length; ++i) {\n",
       "                    if (nbb_cells[i].input_prompt_number == nbb_cell_id) {\n",
       "                        if (nbb_cells[i].get_text() == nbb_unformatted_code) {\n",
       "                             nbb_cells[i].set_text(nbb_formatted_code);\n",
       "                        }\n",
       "                        break;\n",
       "                    }\n",
       "                }\n",
       "            }, 500);\n",
       "            "
      ],
      "text/plain": [
       "<IPython.core.display.Javascript object>"
      ]
     },
     "metadata": {},
     "output_type": "display_data"
    }
   ],
   "source": [
    "year_filter = [str(i) for i in year_range]\n",
    "year_filter"
   ]
  },
  {
   "cell_type": "code",
   "execution_count": 7,
   "metadata": {},
   "outputs": [
    {
     "data": {
      "application/javascript": [
       "\n",
       "            setTimeout(function() {\n",
       "                var nbb_cell_id = 7;\n",
       "                var nbb_unformatted_code = \"province = [\\n    \\\"\\u5317\\u4eac\\\",\\n    \\\"\\u5929\\u6d25\\\",\\n    \\\"\\u6cb3\\u5317\\\",\\n    \\\"\\u5c71\\u897f\\\",\\n    \\\"\\u5185\\u8499\\u53e4\\\",\\n    \\\"\\u8fbd\\u5b81\\\",\\n    \\\"\\u5409\\u6797\\\",\\n    \\\"\\u9ed1\\u9f99\\u6c5f\\\",\\n    \\\"\\u4e0a\\u6d77\\\",\\n    \\\"\\u6c5f\\u82cf\\\",\\n    \\\"\\u6d59\\u6c5f\\\",\\n    \\\"\\u5b89\\u5fbd\\\",\\n    \\\"\\u798f\\u5efa\\\",\\n    \\\"\\u6c5f\\u897f\\\",\\n    \\\"\\u5c71\\u4e1c\\\",\\n    \\\"\\u6cb3\\u5357\\\",\\n    \\\"\\u6e56\\u5317\\\",\\n    \\\"\\u6e56\\u5357\\\",\\n    \\\"\\u5e7f\\u4e1c\\\",\\n    \\\"\\u5e7f\\u897f\\\",\\n    \\\"\\u6d77\\u5357\\\",\\n    \\\"\\u91cd\\u5e86\\\",\\n    \\\"\\u56db\\u5ddd\\\",\\n    \\\"\\u8d35\\u5dde\\\",\\n    \\\"\\u4e91\\u5357\\\",\\n    \\\"\\u9655\\u897f\\\",\\n    \\\"\\u7518\\u8083\\\",\\n    \\\"\\u9752\\u6d77\\\",\\n    \\\"\\u5b81\\u590f\\\",\\n    \\\"\\u65b0\\u7586\\\",\\n]\";\n",
       "                var nbb_formatted_code = \"province = [\\n    \\\"\\u5317\\u4eac\\\",\\n    \\\"\\u5929\\u6d25\\\",\\n    \\\"\\u6cb3\\u5317\\\",\\n    \\\"\\u5c71\\u897f\\\",\\n    \\\"\\u5185\\u8499\\u53e4\\\",\\n    \\\"\\u8fbd\\u5b81\\\",\\n    \\\"\\u5409\\u6797\\\",\\n    \\\"\\u9ed1\\u9f99\\u6c5f\\\",\\n    \\\"\\u4e0a\\u6d77\\\",\\n    \\\"\\u6c5f\\u82cf\\\",\\n    \\\"\\u6d59\\u6c5f\\\",\\n    \\\"\\u5b89\\u5fbd\\\",\\n    \\\"\\u798f\\u5efa\\\",\\n    \\\"\\u6c5f\\u897f\\\",\\n    \\\"\\u5c71\\u4e1c\\\",\\n    \\\"\\u6cb3\\u5357\\\",\\n    \\\"\\u6e56\\u5317\\\",\\n    \\\"\\u6e56\\u5357\\\",\\n    \\\"\\u5e7f\\u4e1c\\\",\\n    \\\"\\u5e7f\\u897f\\\",\\n    \\\"\\u6d77\\u5357\\\",\\n    \\\"\\u91cd\\u5e86\\\",\\n    \\\"\\u56db\\u5ddd\\\",\\n    \\\"\\u8d35\\u5dde\\\",\\n    \\\"\\u4e91\\u5357\\\",\\n    \\\"\\u9655\\u897f\\\",\\n    \\\"\\u7518\\u8083\\\",\\n    \\\"\\u9752\\u6d77\\\",\\n    \\\"\\u5b81\\u590f\\\",\\n    \\\"\\u65b0\\u7586\\\",\\n]\";\n",
       "                var nbb_cells = Jupyter.notebook.get_cells();\n",
       "                for (var i = 0; i < nbb_cells.length; ++i) {\n",
       "                    if (nbb_cells[i].input_prompt_number == nbb_cell_id) {\n",
       "                        if (nbb_cells[i].get_text() == nbb_unformatted_code) {\n",
       "                             nbb_cells[i].set_text(nbb_formatted_code);\n",
       "                        }\n",
       "                        break;\n",
       "                    }\n",
       "                }\n",
       "            }, 500);\n",
       "            "
      ],
      "text/plain": [
       "<IPython.core.display.Javascript object>"
      ]
     },
     "metadata": {},
     "output_type": "display_data"
    }
   ],
   "source": [
    "province = [\n",
    "    \"北京\",\n",
    "    \"天津\",\n",
    "    \"河北\",\n",
    "    \"山西\",\n",
    "    \"内蒙古\",\n",
    "    \"辽宁\",\n",
    "    \"吉林\",\n",
    "    \"黑龙江\",\n",
    "    \"上海\",\n",
    "    \"江苏\",\n",
    "    \"浙江\",\n",
    "    \"安徽\",\n",
    "    \"福建\",\n",
    "    \"江西\",\n",
    "    \"山东\",\n",
    "    \"河南\",\n",
    "    \"湖北\",\n",
    "    \"湖南\",\n",
    "    \"广东\",\n",
    "    \"广西\",\n",
    "    \"海南\",\n",
    "    \"重庆\",\n",
    "    \"四川\",\n",
    "    \"贵州\",\n",
    "    \"云南\",\n",
    "    \"陕西\",\n",
    "    \"甘肃\",\n",
    "    \"青海\",\n",
    "    \"宁夏\",\n",
    "    \"新疆\",\n",
    "]"
   ]
  },
  {
   "cell_type": "code",
   "execution_count": 8,
   "metadata": {},
   "outputs": [
    {
     "data": {
      "application/javascript": [
       "\n",
       "            setTimeout(function() {\n",
       "                var nbb_cell_id = 8;\n",
       "                var nbb_unformatted_code = \"indicator_list = [\\\"\\u80fd\\u6e90\\u6d88\\u8d39\\u603b\\u91cf\\\"]\";\n",
       "                var nbb_formatted_code = \"indicator_list = [\\\"\\u80fd\\u6e90\\u6d88\\u8d39\\u603b\\u91cf\\\"]\";\n",
       "                var nbb_cells = Jupyter.notebook.get_cells();\n",
       "                for (var i = 0; i < nbb_cells.length; ++i) {\n",
       "                    if (nbb_cells[i].input_prompt_number == nbb_cell_id) {\n",
       "                        if (nbb_cells[i].get_text() == nbb_unformatted_code) {\n",
       "                             nbb_cells[i].set_text(nbb_formatted_code);\n",
       "                        }\n",
       "                        break;\n",
       "                    }\n",
       "                }\n",
       "            }, 500);\n",
       "            "
      ],
      "text/plain": [
       "<IPython.core.display.Javascript object>"
      ]
     },
     "metadata": {},
     "output_type": "display_data"
    }
   ],
   "source": [
    "indicator_list = [\"能源消费总量\"]"
   ]
  },
  {
   "cell_type": "code",
   "execution_count": 9,
   "metadata": {},
   "outputs": [
    {
     "data": {
      "application/javascript": [
       "\n",
       "            setTimeout(function() {\n",
       "                var nbb_cell_id = 9;\n",
       "                var nbb_unformatted_code = \"data_df = data_collect(\\n    indicator_list, province, year_range, year_filter=year_filter, unit_filter=\\\"\\u6807\\u51c6\\u7164\\\"\\n)\";\n",
       "                var nbb_formatted_code = \"data_df = data_collect(\\n    indicator_list, province, year_range, year_filter=year_filter, unit_filter=\\\"\\u6807\\u51c6\\u7164\\\"\\n)\";\n",
       "                var nbb_cells = Jupyter.notebook.get_cells();\n",
       "                for (var i = 0; i < nbb_cells.length; ++i) {\n",
       "                    if (nbb_cells[i].input_prompt_number == nbb_cell_id) {\n",
       "                        if (nbb_cells[i].get_text() == nbb_unformatted_code) {\n",
       "                             nbb_cells[i].set_text(nbb_formatted_code);\n",
       "                        }\n",
       "                        break;\n",
       "                    }\n",
       "                }\n",
       "            }, 500);\n",
       "            "
      ],
      "text/plain": [
       "<IPython.core.display.Javascript object>"
      ]
     },
     "metadata": {},
     "output_type": "display_data"
    }
   ],
   "source": [
    "data_df = data_collect(\n",
    "    indicator_list, province, year_range, year_filter=year_filter, unit_filter=\"标准煤\"\n",
    ")"
   ]
  },
  {
   "cell_type": "code",
   "execution_count": 10,
   "metadata": {},
   "outputs": [
    {
     "data": {
      "text/html": [
       "<div>\n",
       "<style scoped>\n",
       "    .dataframe tbody tr th:only-of-type {\n",
       "        vertical-align: middle;\n",
       "    }\n",
       "\n",
       "    .dataframe tbody tr th {\n",
       "        vertical-align: top;\n",
       "    }\n",
       "\n",
       "    .dataframe thead th {\n",
       "        text-align: right;\n",
       "    }\n",
       "</style>\n",
       "<table border=\"1\" class=\"dataframe\">\n",
       "  <thead>\n",
       "    <tr style=\"text-align: right;\">\n",
       "      <th></th>\n",
       "      <th>2</th>\n",
       "      <th>3</th>\n",
       "      <th>4</th>\n",
       "      <th>5</th>\n",
       "      <th>6</th>\n",
       "    </tr>\n",
       "  </thead>\n",
       "  <tbody>\n",
       "    <tr>\n",
       "      <th>0</th>\n",
       "      <td>2005年</td>\n",
       "      <td>北京市</td>\n",
       "      <td>能源、资源和环境能源消费总量</td>\n",
       "      <td>5049.8</td>\n",
       "      <td>万吨标准煤</td>\n",
       "    </tr>\n",
       "    <tr>\n",
       "      <th>1</th>\n",
       "      <td>2005年</td>\n",
       "      <td>北京市</td>\n",
       "      <td>能源消费总量</td>\n",
       "      <td>5049.8</td>\n",
       "      <td>万吨标准煤</td>\n",
       "    </tr>\n",
       "    <tr>\n",
       "      <th>2</th>\n",
       "      <td>2005年</td>\n",
       "      <td>北京市</td>\n",
       "      <td>第三产业能源消费总量</td>\n",
       "      <td>1771.7</td>\n",
       "      <td>万吨标准煤</td>\n",
       "    </tr>\n",
       "    <tr>\n",
       "      <th>8</th>\n",
       "      <td>2005年</td>\n",
       "      <td>北京市</td>\n",
       "      <td>京津冀能源消费总量,能源消费总量</td>\n",
       "      <td>5521.9</td>\n",
       "      <td>万吨标准煤</td>\n",
       "    </tr>\n",
       "    <tr>\n",
       "      <th>18</th>\n",
       "      <td>2005年</td>\n",
       "      <td>北京</td>\n",
       "      <td>能源消费总量</td>\n",
       "      <td>5522</td>\n",
       "      <td>万吨标准煤</td>\n",
       "    </tr>\n",
       "    <tr>\n",
       "      <th>...</th>\n",
       "      <td>...</td>\n",
       "      <td>...</td>\n",
       "      <td>...</td>\n",
       "      <td>...</td>\n",
       "      <td>...</td>\n",
       "    </tr>\n",
       "    <tr>\n",
       "      <th>9</th>\n",
       "      <td>2017年</td>\n",
       "      <td>新疆</td>\n",
       "      <td>可供消费的能源总量</td>\n",
       "      <td>16058.47</td>\n",
       "      <td>万吨标准煤</td>\n",
       "    </tr>\n",
       "    <tr>\n",
       "      <th>10</th>\n",
       "      <td>2017年</td>\n",
       "      <td>新疆</td>\n",
       "      <td>能源消费总量</td>\n",
       "      <td>17391.7</td>\n",
       "      <td>万吨标准煤</td>\n",
       "    </tr>\n",
       "    <tr>\n",
       "      <th>11</th>\n",
       "      <td>2017年</td>\n",
       "      <td>新疆</td>\n",
       "      <td>工业终端能源消费总量</td>\n",
       "      <td>11826.93</td>\n",
       "      <td>万吨标准煤</td>\n",
       "    </tr>\n",
       "    <tr>\n",
       "      <th>12</th>\n",
       "      <td>2017年</td>\n",
       "      <td>新疆</td>\n",
       "      <td>能源消费总量中损失量</td>\n",
       "      <td>230.08</td>\n",
       "      <td>万吨标准煤</td>\n",
       "    </tr>\n",
       "    <tr>\n",
       "      <th>13</th>\n",
       "      <td>2017年</td>\n",
       "      <td>新疆</td>\n",
       "      <td>能源消费总量和主要能源消费量,消费总量,能源消费总量</td>\n",
       "      <td>17391.7</td>\n",
       "      <td>万吨标准煤</td>\n",
       "    </tr>\n",
       "  </tbody>\n",
       "</table>\n",
       "<p>10094380 rows × 5 columns</p>\n",
       "</div>"
      ],
      "text/plain": [
       "        2    3                           4         5      6\n",
       "0   2005年  北京市              能源、资源和环境能源消费总量    5049.8  万吨标准煤\n",
       "1   2005年  北京市                      能源消费总量    5049.8  万吨标准煤\n",
       "2   2005年  北京市                  第三产业能源消费总量    1771.7  万吨标准煤\n",
       "8   2005年  北京市            京津冀能源消费总量,能源消费总量    5521.9  万吨标准煤\n",
       "18  2005年   北京                      能源消费总量      5522  万吨标准煤\n",
       "..    ...  ...                         ...       ...    ...\n",
       "9   2017年   新疆                   可供消费的能源总量  16058.47  万吨标准煤\n",
       "10  2017年   新疆                      能源消费总量   17391.7  万吨标准煤\n",
       "11  2017年   新疆                  工业终端能源消费总量  11826.93  万吨标准煤\n",
       "12  2017年   新疆                  能源消费总量中损失量    230.08  万吨标准煤\n",
       "13  2017年   新疆  能源消费总量和主要能源消费量,消费总量,能源消费总量   17391.7  万吨标准煤\n",
       "\n",
       "[10094380 rows x 5 columns]"
      ]
     },
     "execution_count": 10,
     "metadata": {},
     "output_type": "execute_result"
    },
    {
     "data": {
      "application/javascript": [
       "\n",
       "            setTimeout(function() {\n",
       "                var nbb_cell_id = 10;\n",
       "                var nbb_unformatted_code = \"data_df\";\n",
       "                var nbb_formatted_code = \"data_df\";\n",
       "                var nbb_cells = Jupyter.notebook.get_cells();\n",
       "                for (var i = 0; i < nbb_cells.length; ++i) {\n",
       "                    if (nbb_cells[i].input_prompt_number == nbb_cell_id) {\n",
       "                        if (nbb_cells[i].get_text() == nbb_unformatted_code) {\n",
       "                             nbb_cells[i].set_text(nbb_formatted_code);\n",
       "                        }\n",
       "                        break;\n",
       "                    }\n",
       "                }\n",
       "            }, 500);\n",
       "            "
      ],
      "text/plain": [
       "<IPython.core.display.Javascript object>"
      ]
     },
     "metadata": {},
     "output_type": "display_data"
    }
   ],
   "source": [
    "data_df"
   ]
  },
  {
   "cell_type": "code",
   "execution_count": 11,
   "metadata": {},
   "outputs": [
    {
     "data": {
      "application/javascript": [
       "\n",
       "            setTimeout(function() {\n",
       "                var nbb_cell_id = 11;\n",
       "                var nbb_unformatted_code = \"data_df_screened = data_df.drop_duplicates()\";\n",
       "                var nbb_formatted_code = \"data_df_screened = data_df.drop_duplicates()\";\n",
       "                var nbb_cells = Jupyter.notebook.get_cells();\n",
       "                for (var i = 0; i < nbb_cells.length; ++i) {\n",
       "                    if (nbb_cells[i].input_prompt_number == nbb_cell_id) {\n",
       "                        if (nbb_cells[i].get_text() == nbb_unformatted_code) {\n",
       "                             nbb_cells[i].set_text(nbb_formatted_code);\n",
       "                        }\n",
       "                        break;\n",
       "                    }\n",
       "                }\n",
       "            }, 500);\n",
       "            "
      ],
      "text/plain": [
       "<IPython.core.display.Javascript object>"
      ]
     },
     "metadata": {},
     "output_type": "display_data"
    }
   ],
   "source": [
    "data_df_screened = data_df.drop_duplicates()"
   ]
  },
  {
   "cell_type": "code",
   "execution_count": 12,
   "metadata": {},
   "outputs": [
    {
     "data": {
      "text/html": [
       "<div>\n",
       "<style scoped>\n",
       "    .dataframe tbody tr th:only-of-type {\n",
       "        vertical-align: middle;\n",
       "    }\n",
       "\n",
       "    .dataframe tbody tr th {\n",
       "        vertical-align: top;\n",
       "    }\n",
       "\n",
       "    .dataframe thead th {\n",
       "        text-align: right;\n",
       "    }\n",
       "</style>\n",
       "<table border=\"1\" class=\"dataframe\">\n",
       "  <thead>\n",
       "    <tr style=\"text-align: right;\">\n",
       "      <th></th>\n",
       "      <th>2</th>\n",
       "      <th>3</th>\n",
       "      <th>4</th>\n",
       "      <th>5</th>\n",
       "      <th>6</th>\n",
       "    </tr>\n",
       "  </thead>\n",
       "  <tbody>\n",
       "    <tr>\n",
       "      <th>0</th>\n",
       "      <td>2005年</td>\n",
       "      <td>北京市</td>\n",
       "      <td>能源、资源和环境能源消费总量</td>\n",
       "      <td>5049.8</td>\n",
       "      <td>万吨标准煤</td>\n",
       "    </tr>\n",
       "    <tr>\n",
       "      <th>1</th>\n",
       "      <td>2005年</td>\n",
       "      <td>北京市</td>\n",
       "      <td>能源消费总量</td>\n",
       "      <td>5049.8</td>\n",
       "      <td>万吨标准煤</td>\n",
       "    </tr>\n",
       "    <tr>\n",
       "      <th>2</th>\n",
       "      <td>2005年</td>\n",
       "      <td>北京市</td>\n",
       "      <td>第三产业能源消费总量</td>\n",
       "      <td>1771.7</td>\n",
       "      <td>万吨标准煤</td>\n",
       "    </tr>\n",
       "    <tr>\n",
       "      <th>8</th>\n",
       "      <td>2005年</td>\n",
       "      <td>北京市</td>\n",
       "      <td>京津冀能源消费总量,能源消费总量</td>\n",
       "      <td>5521.9</td>\n",
       "      <td>万吨标准煤</td>\n",
       "    </tr>\n",
       "    <tr>\n",
       "      <th>18</th>\n",
       "      <td>2005年</td>\n",
       "      <td>北京</td>\n",
       "      <td>能源消费总量</td>\n",
       "      <td>5522</td>\n",
       "      <td>万吨标准煤</td>\n",
       "    </tr>\n",
       "    <tr>\n",
       "      <th>...</th>\n",
       "      <td>...</td>\n",
       "      <td>...</td>\n",
       "      <td>...</td>\n",
       "      <td>...</td>\n",
       "      <td>...</td>\n",
       "    </tr>\n",
       "    <tr>\n",
       "      <th>1</th>\n",
       "      <td>2017年</td>\n",
       "      <td>新疆</td>\n",
       "      <td>能源消费总量</td>\n",
       "      <td>17391.7</td>\n",
       "      <td>万吨标准煤</td>\n",
       "    </tr>\n",
       "    <tr>\n",
       "      <th>9</th>\n",
       "      <td>2017年</td>\n",
       "      <td>新疆</td>\n",
       "      <td>可供消费的能源总量</td>\n",
       "      <td>16058.47</td>\n",
       "      <td>万吨标准煤</td>\n",
       "    </tr>\n",
       "    <tr>\n",
       "      <th>11</th>\n",
       "      <td>2017年</td>\n",
       "      <td>新疆</td>\n",
       "      <td>工业终端能源消费总量</td>\n",
       "      <td>11826.93</td>\n",
       "      <td>万吨标准煤</td>\n",
       "    </tr>\n",
       "    <tr>\n",
       "      <th>12</th>\n",
       "      <td>2017年</td>\n",
       "      <td>新疆</td>\n",
       "      <td>能源消费总量中损失量</td>\n",
       "      <td>230.08</td>\n",
       "      <td>万吨标准煤</td>\n",
       "    </tr>\n",
       "    <tr>\n",
       "      <th>13</th>\n",
       "      <td>2017年</td>\n",
       "      <td>新疆</td>\n",
       "      <td>能源消费总量和主要能源消费量,消费总量,能源消费总量</td>\n",
       "      <td>17391.7</td>\n",
       "      <td>万吨标准煤</td>\n",
       "    </tr>\n",
       "  </tbody>\n",
       "</table>\n",
       "<p>2899 rows × 5 columns</p>\n",
       "</div>"
      ],
      "text/plain": [
       "        2    3                           4         5      6\n",
       "0   2005年  北京市              能源、资源和环境能源消费总量    5049.8  万吨标准煤\n",
       "1   2005年  北京市                      能源消费总量    5049.8  万吨标准煤\n",
       "2   2005年  北京市                  第三产业能源消费总量    1771.7  万吨标准煤\n",
       "8   2005年  北京市            京津冀能源消费总量,能源消费总量    5521.9  万吨标准煤\n",
       "18  2005年   北京                      能源消费总量      5522  万吨标准煤\n",
       "..    ...  ...                         ...       ...    ...\n",
       "1   2017年   新疆                      能源消费总量   17391.7  万吨标准煤\n",
       "9   2017年   新疆                   可供消费的能源总量  16058.47  万吨标准煤\n",
       "11  2017年   新疆                  工业终端能源消费总量  11826.93  万吨标准煤\n",
       "12  2017年   新疆                  能源消费总量中损失量    230.08  万吨标准煤\n",
       "13  2017年   新疆  能源消费总量和主要能源消费量,消费总量,能源消费总量   17391.7  万吨标准煤\n",
       "\n",
       "[2899 rows x 5 columns]"
      ]
     },
     "execution_count": 12,
     "metadata": {},
     "output_type": "execute_result"
    },
    {
     "data": {
      "application/javascript": [
       "\n",
       "            setTimeout(function() {\n",
       "                var nbb_cell_id = 12;\n",
       "                var nbb_unformatted_code = \"data_df_screened\";\n",
       "                var nbb_formatted_code = \"data_df_screened\";\n",
       "                var nbb_cells = Jupyter.notebook.get_cells();\n",
       "                for (var i = 0; i < nbb_cells.length; ++i) {\n",
       "                    if (nbb_cells[i].input_prompt_number == nbb_cell_id) {\n",
       "                        if (nbb_cells[i].get_text() == nbb_unformatted_code) {\n",
       "                             nbb_cells[i].set_text(nbb_formatted_code);\n",
       "                        }\n",
       "                        break;\n",
       "                    }\n",
       "                }\n",
       "            }, 500);\n",
       "            "
      ],
      "text/plain": [
       "<IPython.core.display.Javascript object>"
      ]
     },
     "metadata": {},
     "output_type": "display_data"
    }
   ],
   "source": [
    "data_df_screened"
   ]
  },
  {
   "cell_type": "code",
   "execution_count": 13,
   "metadata": {},
   "outputs": [
    {
     "data": {
      "application/javascript": [
       "\n",
       "            setTimeout(function() {\n",
       "                var nbb_cell_id = 13;\n",
       "                var nbb_unformatted_code = \"path = (\\n    r\\\"E:\\\\tencent files\\\\chrome Download\\\\Research\\\\DEA\\\\DEA_carbon market\\\\Data_collection\\\\\\\\\\\"\\n)\";\n",
       "                var nbb_formatted_code = \"path = (\\n    r\\\"E:\\\\tencent files\\\\chrome Download\\\\Research\\\\DEA\\\\DEA_carbon market\\\\Data_collection\\\\\\\\\\\"\\n)\";\n",
       "                var nbb_cells = Jupyter.notebook.get_cells();\n",
       "                for (var i = 0; i < nbb_cells.length; ++i) {\n",
       "                    if (nbb_cells[i].input_prompt_number == nbb_cell_id) {\n",
       "                        if (nbb_cells[i].get_text() == nbb_unformatted_code) {\n",
       "                             nbb_cells[i].set_text(nbb_formatted_code);\n",
       "                        }\n",
       "                        break;\n",
       "                    }\n",
       "                }\n",
       "            }, 500);\n",
       "            "
      ],
      "text/plain": [
       "<IPython.core.display.Javascript object>"
      ]
     },
     "metadata": {},
     "output_type": "display_data"
    }
   ],
   "source": [
    "path = (\n",
    "    r\"E:\\tencent files\\chrome Download\\Research\\DEA\\DEA_carbon market\\Data_collection\\\\\"\n",
    ")"
   ]
  },
  {
   "cell_type": "code",
   "execution_count": 14,
   "metadata": {},
   "outputs": [
    {
     "data": {
      "application/javascript": [
       "\n",
       "            setTimeout(function() {\n",
       "                var nbb_cell_id = 14;\n",
       "                var nbb_unformatted_code = \"data_df_screened.to_excel(path + indicator_list[0] + \\\".xlsx\\\")\";\n",
       "                var nbb_formatted_code = \"data_df_screened.to_excel(path + indicator_list[0] + \\\".xlsx\\\")\";\n",
       "                var nbb_cells = Jupyter.notebook.get_cells();\n",
       "                for (var i = 0; i < nbb_cells.length; ++i) {\n",
       "                    if (nbb_cells[i].input_prompt_number == nbb_cell_id) {\n",
       "                        if (nbb_cells[i].get_text() == nbb_unformatted_code) {\n",
       "                             nbb_cells[i].set_text(nbb_formatted_code);\n",
       "                        }\n",
       "                        break;\n",
       "                    }\n",
       "                }\n",
       "            }, 500);\n",
       "            "
      ],
      "text/plain": [
       "<IPython.core.display.Javascript object>"
      ]
     },
     "metadata": {},
     "output_type": "display_data"
    }
   ],
   "source": [
    "data_df_screened.to_excel(path + indicator_list[0] + \".xlsx\")"
   ]
  }
 ],
 "metadata": {
  "kernelspec": {
   "display_name": "Python [conda env:root] *",
   "language": "python",
   "name": "conda-root-py"
  },
  "language_info": {
   "codemirror_mode": {
    "name": "ipython",
    "version": 3
   },
   "file_extension": ".py",
   "mimetype": "text/x-python",
   "name": "python",
   "nbconvert_exporter": "python",
   "pygments_lexer": "ipython3",
   "version": "3.7.3"
  },
  "toc": {
   "base_numbering": 1,
   "nav_menu": {},
   "number_sections": true,
   "sideBar": true,
   "skip_h1_title": false,
   "title_cell": "Table of Contents",
   "title_sidebar": "Contents",
   "toc_cell": false,
   "toc_position": {},
   "toc_section_display": true,
   "toc_window_display": false
  }
 },
 "nbformat": 4,
 "nbformat_minor": 4
}
